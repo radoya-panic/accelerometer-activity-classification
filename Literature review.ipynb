{
 "cells": [
  {
   "cell_type": "markdown",
   "id": "21efe605",
   "metadata": {},
   "source": [
    "# Literature review\n",
    "## Contents\n",
    "- Physical activity recognition from accelerometer data using multi-scale ensemble method (Zheng, Wong, Guan, and Trost 2013)\n",
    "- A comprehensive study of activity recognition using accelerometers (Twomey et al. 2018)\n",
    "- Summary\n",
    "\n"
   ]
  },
  {
   "cell_type": "markdown",
   "id": "cdd7efb6",
   "metadata": {},
   "source": [
    "# Physical activity recognition from accelerometer data using multi-scale ensemble method (Zheng, Wong, Guan, and Trost 2013)\n",
    "- simple approach: deployed non-overlapping windows and used them as feature vectors\n",
    "- improved approach: multi-scale (no single window size) using ensemble method\n",
    "- model goal: classify an activity of a 10 second time window\n",
    "\n",
    "In this study, they trained a model to classify a time series with a single activity label. This is different to my task, which is to create a model which can classify the activity in intervals of 1 second, provided accelerometer readings every 0.1 seconds. \n",
    "\n",
    "In order to adapt the lessons of this paper to my model I need to deal with the fact that I cannot create 10 second windows on my data for the first couple and last few labels. However, the idea of using multiple time scales to discriminate against differences across multiple time scales is powerful. \n",
    "\n",
    "I can add to the 'bag of features' by introducing frequency domain features too (to be investigated in Twomey et al. 2018 in more detail). \n",
    "\n",
    "### Datasets\n",
    "- 30Hz sampling rates\n",
    "- each time series has a single label for the activity\n",
    "\n",
    "### Past studies\n",
    "- reduced the dimensionality of the time series to a set of key statistics and used that to train their supervised learning models\n",
    "    - tried k-NN algorithms on such reduced dimensionality feature vectors which worked well but not on repetative patterns\n",
    "- Hidden Markov Models (HMM) appeared to work well for segmenting a time series into different activities, and not just classifying a single time series as one activity\n",
    "\n",
    "### Multi-scale ensemble method\n",
    "- features of activities occur at different time scales, so models in the ensemble are tuned to different time scales\n",
    "- each window has a group of features (18) calculated on each axes, as well as correlation between each pair of axes\n",
    "- regularisation is used to prevent overfitting\n",
    "- the motivation of this approach is the 'bag of features' approach where acceleromoter data is turned into a feature vector by computing a whole bunch of potentially useful summary statistics and the model uses regularisation to prevent overfitting on this large number of features\n",
    "- windows used include integer values between and including 1 and 10 seconds\n",
    "    - the best performing ensemble used a SVM for each window\n",
    "        - each model voted on the activity of the time series based on what each time frame was predicted to be\n",
    "    - then there is a majority vote on the activity based on each ensemble\n",
    "\n",
    "- the largest time window used was 10 seconds, having been found to be an efffective tradeoff between collecting enough data to make a prediction and having a fast real time detection time\n",
    "    - **this doesn't quite fit well with my dataset, which has 10 samples per label, effectively constituting 1 second time series each with 10 samples and a single label**\n",
    "\n",
    "### Experiments\n",
    "- each model trained on training set and tuned on validation set\n",
    "- the average macro-F1 (average F1 across multiple classes which each have their own F1) across different training-validation-testing splits\n",
    "- they tested the following models:\n",
    "    - 1NN on the raw accelerometer data with different distance metrics\n",
    "    - ANN with a single hidden layer, tuning the number of hidden layers and decay weights (which is how to incorporate regualrisation into an ANN)\n",
    "        - using bag of features on a window of 10 seconds\n",
    "    - a single SVM\n",
    "        - using bag of features on a window of 10 seconds\n",
    "        - making this equivalent to the member of the ensseble trained on the 10 second window\n",
    "    - the ensemble SVM \n",
    "\n",
    "### Results\n",
    "- the emsemble SVM performed the best\n",
    "- the members of the ensemble were assessed individually too revealing that different time scales could categories different activities better\n",
    "- the time scales that worked best for he different activities could be used to inform the time scales I need to classify the activities I need to, which are standing, walking, going up and down stairs\n",
    "    - however, walking appeared to be best for 2, 8, and 9 seconds depending on the dataset, which doesn't provide much insight into which is optimal for my problem \n",
    "    - standing worked best with a smaller window of 1 second or slightly more\n",
    "    - only one of the datasets had going up and down stairs, with the top performing windows being 3 and 2 seconds respectively\n",
    "        - this works to my advantage because it suggests smaller time scales are required, which is all I have access to for my particualr dataset\n"
   ]
  },
  {
   "cell_type": "markdown",
   "id": "bd1b61c2",
   "metadata": {},
   "source": [
    "# A comprehensive study of activity recognition using accelerometers (Twomey et al. 2018)\n",
    "- the accuracy of classification is limited by the dataset itself\n",
    "- accuracy increases with the context that can be provided to the model, which can come in the form of:\n",
    "    - increased sampling frequency\n",
    "    - increased window size\n",
    "    - modelling temporal dependence (structured models)\n",
    "- the paper recommends sequential classifiers\n",
    "    - my previsous attempts and those from Zheng et al. 2013 fail to capture the information captured by the order of the data in the time series, which is important as it provides context to the model\n",
    "\n",
    "## Structured vs. unstructured models\n",
    "- when we just feed the raw accelerometer data or computed summary statistics to a model we are assuming the the feature vectors are iid, which ignores the temporal dependence (sequence) of the data\n",
    "    - the accuracy of this assumption is important\n",
    "- in some contexts both strucured (eg. HMMs) and unstructered (eg. SVM) models perform comparably, while the later are often comutationally cheaper\n",
    "\n",
    "## Feature windows\n",
    "- the optimal window duration depends on the placement of the accelerometer\n",
    "- features used can be split into time and frequency domain:\n",
    "    - frequency domain examples: entropy, energy, and, coherence (correlation in the frequency domain)\n",
    "\n",
    "## Summary \n",
    "The level of ML acamedia in this paper is beyond my abilities at the moment. There isn't much concrete information I can apply to my own models, since I don't think it's appropriate for me to try and copy the more complicated models from the paper without a proper understanding (which would be required in order to infer the correct way to translate it to my data and tune it). \n",
    "\n",
    "Rather, I believe I can draw the followin inferences for my own use:\n",
    "- I should add frequency domain features to my 'bag of features' approach\n",
    "- A non-sequential model with sufficient context can perform as good as a sequential model\n",
    "- If time permits, I can do some research into sequential models and try one in my project and compare"
   ]
  },
  {
   "cell_type": "markdown",
   "id": "99ea2321",
   "metadata": {},
   "source": [
    "# Summary\n",
    "- try HMM for segmenting the time series into differenr activities (what my model needs to do)\n",
    "- try bag of features approach on the time series\n",
    "    - pair this with regularisation to guard against overfitting\n",
    "- try an esemble method that uses different time scales\n",
    "    - this is because patterns that discern activities can occur across different time scales\n",
    "- walking and going up/down stairs are most accurately classified using windows of 1-3 seconds\n",
    "    - where as walking appeared to work best for 2 or 8 second windows depending on the data set\n",
    "    - for Zheng et al. 2013\n",
    "- however, Zheng et al. 2013 focused on classifying larger time series, and they discuss the need for segmenting models, which my problem seems to need more so\n",
    "\n",
    "- sensor placement affects what features are most effective \n",
    "\n"
   ]
  },
  {
   "cell_type": "code",
   "execution_count": null,
   "id": "f010d1bd",
   "metadata": {},
   "outputs": [],
   "source": []
  }
 ],
 "metadata": {
  "kernelspec": {
   "display_name": "Python 3 (ipykernel)",
   "language": "python",
   "name": "python3"
  },
  "language_info": {
   "codemirror_mode": {
    "name": "ipython",
    "version": 3
   },
   "file_extension": ".py",
   "mimetype": "text/x-python",
   "name": "python",
   "nbconvert_exporter": "python",
   "pygments_lexer": "ipython3",
   "version": "3.7.11"
  }
 },
 "nbformat": 4,
 "nbformat_minor": 5
}

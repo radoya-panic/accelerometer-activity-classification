{
 "cells": [
  {
   "cell_type": "markdown",
   "metadata": {},
   "source": [
    "# Where I left off:\n",
    "Changed time stamps to UTC float values for the train time series.\n",
    "   [ ]  change for the rest of the time series\\n\"\n",
    "\n",
    "Got rid of accuracy from time series.\\n\n",
    "\n",
    "Normalised accelerometer readings.\n"
   ]
  },
  {
   "cell_type": "markdown",
   "metadata": {},
   "source": [
    "# Final Project\n",
    "## About\n",
    "This model attempts to predict the type of physical activity from tri-axial smartphone accelerometer data.\n",
    "### Input Data\n",
    "* \"train_time_series.csv\": contains raw acc. data with the format \"timestamp, UTC time, accuracy, x, y, z\"\n",
    "* \"train_labels.csv\": contains act. lvls to label model\n",
    "    * 1 = standing\n",
    "    * 2 = walking\n",
    "    * 3 = stairs down\n",
    "    * 4 = stairs up\n",
    "\n",
    "Note: the labels are provided for every 10th observation in the time series data.\n",
    "\n",
    "### Test Data\n",
    "The final test for the program is to evaluate \"test_time_series.csv\". \n",
    "* \"test_labels.csv\" is provided to tell you what stamps need predictions\n",
    "Note: You need to augment the above file to correspond to the class prediction numbers."
   ]
  },
  {
   "cell_type": "code",
   "execution_count": 76,
   "metadata": {},
   "outputs": [],
   "source": [
    "# import libraries \n",
    "import pandas as pd\n",
    "import numpy as np\n",
    "\n",
    "from sklearn.model_selection import cross_val_score\n",
    "from sklearn.linear_model import LinearRegression\n",
    "from sklearn.linear_model import LogisticRegression\n",
    "from sklearn.ensemble import RandomForestRegressor\n",
    "from sklearn.ensemble import RandomForestClassifier\n",
    "\n",
    "from sklearn.metrics import accuracy_score\n",
    "from sklearn.metrics import r2_score\n",
    "\n",
    "import matplotlib.pyplot as plt\n",
    "\n",
    "from scipy.fftpack import fft\n",
    "\n",
    "import datetime"
   ]
  },
  {
   "cell_type": "code",
   "execution_count": 77,
   "metadata": {},
   "outputs": [],
   "source": [
    "# import data\n",
    "train_labels = pd.read_csv('https://courses.edx.org/assets/courseware/v1/d64e74647423e525bbeb13f2884e9cfa/asset-v1:HarvardX+PH526x+2T2020+type@asset+block/train_labels.csv',index_col=0)\n",
    "train_time_series = pd.read_csv('https://courses.edx.org/assets/courseware/v1/b98039c3648763aae4f153a6ed32f38b/asset-v1:HarvardX+PH526x+2T2020+type@asset+block/train_time_series.csv',index_col=0)\n",
    "test_labels = pd.read_csv('https://courses.edx.org/assets/courseware/v1/72d5933c310cf5eac3fa3f28b26d9c39/asset-v1:HarvardX+PH526x+2T2020+type@asset+block/test_labels.csv',index_col=0)\n",
    "test_time_series = pd.read_csv('https://courses.edx.org/assets/courseware/v1/1ca4f3d4976f07b8c4ecf99cf8f7bdbc/asset-v1:HarvardX+PH526x+2T2020+type@asset+block/test_time_series.csv',index_col=0)"
   ]
  },
  {
   "cell_type": "code",
   "execution_count": 111,
   "metadata": {},
   "outputs": [
    {
     "data": {
      "text/html": [
       "<div>\n",
       "<style scoped>\n",
       "    .dataframe tbody tr th:only-of-type {\n",
       "        vertical-align: middle;\n",
       "    }\n",
       "\n",
       "    .dataframe tbody tr th {\n",
       "        vertical-align: top;\n",
       "    }\n",
       "\n",
       "    .dataframe thead th {\n",
       "        text-align: right;\n",
       "    }\n",
       "</style>\n",
       "<table border=\"1\" class=\"dataframe\">\n",
       "  <thead>\n",
       "    <tr style=\"text-align: right;\">\n",
       "      <th></th>\n",
       "      <th>timestamp</th>\n",
       "      <th>UTC time</th>\n",
       "      <th>label</th>\n",
       "    </tr>\n",
       "  </thead>\n",
       "  <tbody>\n",
       "    <tr>\n",
       "      <th>20589</th>\n",
       "      <td>1565109931087</td>\n",
       "      <td>2019-08-06T16:45:31.087</td>\n",
       "      <td>1</td>\n",
       "    </tr>\n",
       "    <tr>\n",
       "      <th>20599</th>\n",
       "      <td>1565109932090</td>\n",
       "      <td>2019-08-06T16:45:32.090</td>\n",
       "      <td>1</td>\n",
       "    </tr>\n",
       "    <tr>\n",
       "      <th>20609</th>\n",
       "      <td>1565109933092</td>\n",
       "      <td>2019-08-06T16:45:33.092</td>\n",
       "      <td>1</td>\n",
       "    </tr>\n",
       "    <tr>\n",
       "      <th>20619</th>\n",
       "      <td>1565109934094</td>\n",
       "      <td>2019-08-06T16:45:34.094</td>\n",
       "      <td>1</td>\n",
       "    </tr>\n",
       "    <tr>\n",
       "      <th>20629</th>\n",
       "      <td>1565109935097</td>\n",
       "      <td>2019-08-06T16:45:35.097</td>\n",
       "      <td>1</td>\n",
       "    </tr>\n",
       "  </tbody>\n",
       "</table>\n",
       "</div>"
      ],
      "text/plain": [
       "           timestamp                 UTC time  label\n",
       "20589  1565109931087  2019-08-06T16:45:31.087      1\n",
       "20599  1565109932090  2019-08-06T16:45:32.090      1\n",
       "20609  1565109933092  2019-08-06T16:45:33.092      1\n",
       "20619  1565109934094  2019-08-06T16:45:34.094      1\n",
       "20629  1565109935097  2019-08-06T16:45:35.097      1"
      ]
     },
     "execution_count": 111,
     "metadata": {},
     "output_type": "execute_result"
    }
   ],
   "source": [
    "# inspect data\n",
    "train_labels.head()"
   ]
  },
  {
   "cell_type": "code",
   "execution_count": 79,
   "metadata": {},
   "outputs": [
    {
     "data": {
      "text/html": [
       "<div>\n",
       "<style scoped>\n",
       "    .dataframe tbody tr th:only-of-type {\n",
       "        vertical-align: middle;\n",
       "    }\n",
       "\n",
       "    .dataframe tbody tr th {\n",
       "        vertical-align: top;\n",
       "    }\n",
       "\n",
       "    .dataframe thead th {\n",
       "        text-align: right;\n",
       "    }\n",
       "</style>\n",
       "<table border=\"1\" class=\"dataframe\">\n",
       "  <thead>\n",
       "    <tr style=\"text-align: right;\">\n",
       "      <th></th>\n",
       "      <th>timestamp</th>\n",
       "      <th>UTC time</th>\n",
       "      <th>accuracy</th>\n",
       "      <th>x</th>\n",
       "      <th>y</th>\n",
       "      <th>z</th>\n",
       "    </tr>\n",
       "  </thead>\n",
       "  <tbody>\n",
       "    <tr>\n",
       "      <th>24325</th>\n",
       "      <td>1565110305638</td>\n",
       "      <td>2019-08-06T16:51:45.638</td>\n",
       "      <td>unknown</td>\n",
       "      <td>0.024384</td>\n",
       "      <td>-0.710709</td>\n",
       "      <td>0.030304</td>\n",
       "    </tr>\n",
       "    <tr>\n",
       "      <th>24326</th>\n",
       "      <td>1565110305738</td>\n",
       "      <td>2019-08-06T16:51:45.738</td>\n",
       "      <td>unknown</td>\n",
       "      <td>0.487228</td>\n",
       "      <td>-1.099136</td>\n",
       "      <td>-0.015213</td>\n",
       "    </tr>\n",
       "    <tr>\n",
       "      <th>24327</th>\n",
       "      <td>1565110305838</td>\n",
       "      <td>2019-08-06T16:51:45.838</td>\n",
       "      <td>unknown</td>\n",
       "      <td>0.369446</td>\n",
       "      <td>-0.968506</td>\n",
       "      <td>0.036713</td>\n",
       "    </tr>\n",
       "    <tr>\n",
       "      <th>24328</th>\n",
       "      <td>1565110305939</td>\n",
       "      <td>2019-08-06T16:51:45.939</td>\n",
       "      <td>unknown</td>\n",
       "      <td>0.167877</td>\n",
       "      <td>-0.802826</td>\n",
       "      <td>0.049805</td>\n",
       "    </tr>\n",
       "    <tr>\n",
       "      <th>24329</th>\n",
       "      <td>1565110306039</td>\n",
       "      <td>2019-08-06T16:51:46.039</td>\n",
       "      <td>unknown</td>\n",
       "      <td>0.689346</td>\n",
       "      <td>-0.991043</td>\n",
       "      <td>0.034973</td>\n",
       "    </tr>\n",
       "  </tbody>\n",
       "</table>\n",
       "</div>"
      ],
      "text/plain": [
       "           timestamp                 UTC time accuracy         x         y  \\\n",
       "24325  1565110305638  2019-08-06T16:51:45.638  unknown  0.024384 -0.710709   \n",
       "24326  1565110305738  2019-08-06T16:51:45.738  unknown  0.487228 -1.099136   \n",
       "24327  1565110305838  2019-08-06T16:51:45.838  unknown  0.369446 -0.968506   \n",
       "24328  1565110305939  2019-08-06T16:51:45.939  unknown  0.167877 -0.802826   \n",
       "24329  1565110306039  2019-08-06T16:51:46.039  unknown  0.689346 -0.991043   \n",
       "\n",
       "              z  \n",
       "24325  0.030304  \n",
       "24326 -0.015213  \n",
       "24327  0.036713  \n",
       "24328  0.049805  \n",
       "24329  0.034973  "
      ]
     },
     "execution_count": 79,
     "metadata": {},
     "output_type": "execute_result"
    }
   ],
   "source": [
    "# inspect data\n",
    "train_time_series.tail()"
   ]
  },
  {
   "cell_type": "code",
   "execution_count": 80,
   "metadata": {},
   "outputs": [
    {
     "data": {
      "text/html": [
       "<div>\n",
       "<style scoped>\n",
       "    .dataframe tbody tr th:only-of-type {\n",
       "        vertical-align: middle;\n",
       "    }\n",
       "\n",
       "    .dataframe tbody tr th {\n",
       "        vertical-align: top;\n",
       "    }\n",
       "\n",
       "    .dataframe thead th {\n",
       "        text-align: right;\n",
       "    }\n",
       "</style>\n",
       "<table border=\"1\" class=\"dataframe\">\n",
       "  <thead>\n",
       "    <tr style=\"text-align: right;\">\n",
       "      <th></th>\n",
       "      <th>timestamp</th>\n",
       "      <th>UTC time</th>\n",
       "      <th>label</th>\n",
       "    </tr>\n",
       "  </thead>\n",
       "  <tbody>\n",
       "    <tr>\n",
       "      <th>24339</th>\n",
       "      <td>1565110307041</td>\n",
       "      <td>2019-08-06T16:51:47.041</td>\n",
       "      <td>NaN</td>\n",
       "    </tr>\n",
       "    <tr>\n",
       "      <th>24349</th>\n",
       "      <td>1565110308043</td>\n",
       "      <td>2019-08-06T16:51:48.043</td>\n",
       "      <td>NaN</td>\n",
       "    </tr>\n",
       "    <tr>\n",
       "      <th>24359</th>\n",
       "      <td>1565110309046</td>\n",
       "      <td>2019-08-06T16:51:49.046</td>\n",
       "      <td>NaN</td>\n",
       "    </tr>\n",
       "    <tr>\n",
       "      <th>24369</th>\n",
       "      <td>1565110310048</td>\n",
       "      <td>2019-08-06T16:51:50.048</td>\n",
       "      <td>NaN</td>\n",
       "    </tr>\n",
       "    <tr>\n",
       "      <th>24379</th>\n",
       "      <td>1565110311050</td>\n",
       "      <td>2019-08-06T16:51:51.050</td>\n",
       "      <td>NaN</td>\n",
       "    </tr>\n",
       "  </tbody>\n",
       "</table>\n",
       "</div>"
      ],
      "text/plain": [
       "           timestamp                 UTC time  label\n",
       "24339  1565110307041  2019-08-06T16:51:47.041    NaN\n",
       "24349  1565110308043  2019-08-06T16:51:48.043    NaN\n",
       "24359  1565110309046  2019-08-06T16:51:49.046    NaN\n",
       "24369  1565110310048  2019-08-06T16:51:50.048    NaN\n",
       "24379  1565110311050  2019-08-06T16:51:51.050    NaN"
      ]
     },
     "execution_count": 80,
     "metadata": {},
     "output_type": "execute_result"
    }
   ],
   "source": [
    "# inspect data\n",
    "test_labels.head()"
   ]
  },
  {
   "cell_type": "code",
   "execution_count": 81,
   "metadata": {},
   "outputs": [
    {
     "data": {
      "text/html": [
       "<div>\n",
       "<style scoped>\n",
       "    .dataframe tbody tr th:only-of-type {\n",
       "        vertical-align: middle;\n",
       "    }\n",
       "\n",
       "    .dataframe tbody tr th {\n",
       "        vertical-align: top;\n",
       "    }\n",
       "\n",
       "    .dataframe thead th {\n",
       "        text-align: right;\n",
       "    }\n",
       "</style>\n",
       "<table border=\"1\" class=\"dataframe\">\n",
       "  <thead>\n",
       "    <tr style=\"text-align: right;\">\n",
       "      <th></th>\n",
       "      <th>timestamp</th>\n",
       "      <th>UTC time</th>\n",
       "      <th>accuracy</th>\n",
       "      <th>x</th>\n",
       "      <th>y</th>\n",
       "      <th>z</th>\n",
       "    </tr>\n",
       "  </thead>\n",
       "  <tbody>\n",
       "    <tr>\n",
       "      <th>24330</th>\n",
       "      <td>1565110306139</td>\n",
       "      <td>2019-08-06T16:51:46.139</td>\n",
       "      <td>unknown</td>\n",
       "      <td>0.034286</td>\n",
       "      <td>-1.504456</td>\n",
       "      <td>0.157623</td>\n",
       "    </tr>\n",
       "    <tr>\n",
       "      <th>24331</th>\n",
       "      <td>1565110306239</td>\n",
       "      <td>2019-08-06T16:51:46.239</td>\n",
       "      <td>unknown</td>\n",
       "      <td>0.409164</td>\n",
       "      <td>-1.038544</td>\n",
       "      <td>0.030975</td>\n",
       "    </tr>\n",
       "    <tr>\n",
       "      <th>24332</th>\n",
       "      <td>1565110306340</td>\n",
       "      <td>2019-08-06T16:51:46.340</td>\n",
       "      <td>unknown</td>\n",
       "      <td>-0.234390</td>\n",
       "      <td>-0.984558</td>\n",
       "      <td>0.124771</td>\n",
       "    </tr>\n",
       "    <tr>\n",
       "      <th>24333</th>\n",
       "      <td>1565110306440</td>\n",
       "      <td>2019-08-06T16:51:46.440</td>\n",
       "      <td>unknown</td>\n",
       "      <td>0.251114</td>\n",
       "      <td>-0.787003</td>\n",
       "      <td>0.054810</td>\n",
       "    </tr>\n",
       "    <tr>\n",
       "      <th>24334</th>\n",
       "      <td>1565110306540</td>\n",
       "      <td>2019-08-06T16:51:46.540</td>\n",
       "      <td>unknown</td>\n",
       "      <td>0.109924</td>\n",
       "      <td>-0.169510</td>\n",
       "      <td>0.235550</td>\n",
       "    </tr>\n",
       "  </tbody>\n",
       "</table>\n",
       "</div>"
      ],
      "text/plain": [
       "           timestamp                 UTC time accuracy         x         y  \\\n",
       "24330  1565110306139  2019-08-06T16:51:46.139  unknown  0.034286 -1.504456   \n",
       "24331  1565110306239  2019-08-06T16:51:46.239  unknown  0.409164 -1.038544   \n",
       "24332  1565110306340  2019-08-06T16:51:46.340  unknown -0.234390 -0.984558   \n",
       "24333  1565110306440  2019-08-06T16:51:46.440  unknown  0.251114 -0.787003   \n",
       "24334  1565110306540  2019-08-06T16:51:46.540  unknown  0.109924 -0.169510   \n",
       "\n",
       "              z  \n",
       "24330  0.157623  \n",
       "24331  0.030975  \n",
       "24332  0.124771  \n",
       "24333  0.054810  \n",
       "24334  0.235550  "
      ]
     },
     "execution_count": 81,
     "metadata": {},
     "output_type": "execute_result"
    }
   ],
   "source": [
    "# inspect data\n",
    "test_time_series.head()"
   ]
  },
  {
   "cell_type": "markdown",
   "metadata": {},
   "source": [
    "We can see that accuracy is unknown therefore is not a useful feature to keep."
   ]
  },
  {
   "cell_type": "code",
   "execution_count": 157,
   "metadata": {},
   "outputs": [],
   "source": [
    "train_time_series = train_time_series.pop('accuracy')\n",
    "test_time_series = test_time_series.pop('accuracy')"
   ]
  },
  {
   "cell_type": "markdown",
   "metadata": {},
   "source": [
    "# Data Exploration\n"
   ]
  },
  {
   "cell_type": "markdown",
   "metadata": {},
   "source": [
    "## Examine accelerometer readings"
   ]
  },
  {
   "cell_type": "code",
   "execution_count": 82,
   "metadata": {},
   "outputs": [
    {
     "data": {
      "text/html": [
       "<div>\n",
       "<style scoped>\n",
       "    .dataframe tbody tr th:only-of-type {\n",
       "        vertical-align: middle;\n",
       "    }\n",
       "\n",
       "    .dataframe tbody tr th {\n",
       "        vertical-align: top;\n",
       "    }\n",
       "\n",
       "    .dataframe thead th {\n",
       "        text-align: right;\n",
       "    }\n",
       "</style>\n",
       "<table border=\"1\" class=\"dataframe\">\n",
       "  <thead>\n",
       "    <tr style=\"text-align: right;\">\n",
       "      <th></th>\n",
       "      <th>x</th>\n",
       "      <th>y</th>\n",
       "      <th>z</th>\n",
       "    </tr>\n",
       "  </thead>\n",
       "  <tbody>\n",
       "    <tr>\n",
       "      <th>count</th>\n",
       "      <td>3744.000000</td>\n",
       "      <td>3744.000000</td>\n",
       "      <td>3744.000000</td>\n",
       "    </tr>\n",
       "    <tr>\n",
       "      <th>mean</th>\n",
       "      <td>0.195821</td>\n",
       "      <td>-1.005256</td>\n",
       "      <td>0.084435</td>\n",
       "    </tr>\n",
       "    <tr>\n",
       "      <th>std</th>\n",
       "      <td>0.395698</td>\n",
       "      <td>0.451178</td>\n",
       "      <td>0.350817</td>\n",
       "    </tr>\n",
       "    <tr>\n",
       "      <th>min</th>\n",
       "      <td>-1.071152</td>\n",
       "      <td>-3.391312</td>\n",
       "      <td>-1.415390</td>\n",
       "    </tr>\n",
       "    <tr>\n",
       "      <th>25%</th>\n",
       "      <td>-0.021503</td>\n",
       "      <td>-1.148064</td>\n",
       "      <td>-0.068581</td>\n",
       "    </tr>\n",
       "    <tr>\n",
       "      <th>50%</th>\n",
       "      <td>0.161728</td>\n",
       "      <td>-0.958015</td>\n",
       "      <td>0.052116</td>\n",
       "    </tr>\n",
       "    <tr>\n",
       "      <th>75%</th>\n",
       "      <td>0.400677</td>\n",
       "      <td>-0.769691</td>\n",
       "      <td>0.203800</td>\n",
       "    </tr>\n",
       "    <tr>\n",
       "      <th>max</th>\n",
       "      <td>2.503098</td>\n",
       "      <td>0.321747</td>\n",
       "      <td>2.587173</td>\n",
       "    </tr>\n",
       "  </tbody>\n",
       "</table>\n",
       "</div>"
      ],
      "text/plain": [
       "                 x            y            z\n",
       "count  3744.000000  3744.000000  3744.000000\n",
       "mean      0.195821    -1.005256     0.084435\n",
       "std       0.395698     0.451178     0.350817\n",
       "min      -1.071152    -3.391312    -1.415390\n",
       "25%      -0.021503    -1.148064    -0.068581\n",
       "50%       0.161728    -0.958015     0.052116\n",
       "75%       0.400677    -0.769691     0.203800\n",
       "max       2.503098     0.321747     2.587173"
      ]
     },
     "execution_count": 82,
     "metadata": {},
     "output_type": "execute_result"
    }
   ],
   "source": [
    "# print statistical summary of accelerometer data\n",
    "train_time_series[['x','y','z']].describe()"
   ]
  },
  {
   "cell_type": "markdown",
   "metadata": {},
   "source": [
    "On average the x and z axes possess a positive accelation, while the z axis reads a negative value. The mean value for the y acceleration is noticably greater than the other two, while the z axis mean is significanly smaller than the others. \n",
    "\n",
    "The standard deviation of the y axis readings is the largest, with the other two comparably similar in magnitude. \n",
    "\n",
    "The maximum values of the x and z axis are much greater than the max of the y axis, while the minimum of the y axis accleration is the smallest. "
   ]
  },
  {
   "cell_type": "code",
   "execution_count": 114,
   "metadata": {},
   "outputs": [
    {
     "data": {
      "text/plain": [
       "Text(0.5, 1.0, 'Figure 1: raw accelerometer data time series')"
      ]
     },
     "execution_count": 114,
     "metadata": {},
     "output_type": "execute_result"
    },
    {
     "data": {
      "image/png": "[encoded data removed]",
      "text/plain": [
       "<Figure size 432x288 with 1 Axes>"
      ]
     },
     "metadata": {
      "needs_background": "light"
     },
     "output_type": "display_data"
    }
   ],
   "source": [
    "train_time_series[['x','y','z']].plot()\n",
    "plt.title('Figure 1: raw accelerometer data time series')"
   ]
  },
  {
   "cell_type": "code",
   "execution_count": 112,
   "metadata": {},
   "outputs": [
    {
     "data": {
      "text/plain": [
       "timestamp              1565110073506\n",
       "UTC time     2019-08-06T16:47:53.506\n",
       "label                              1\n",
       "Name: 22009, dtype: object"
      ]
     },
     "execution_count": 112,
     "metadata": {},
     "output_type": "execute_result"
    }
   ],
   "source": [
    "train_labels.loc[22009]"
   ]
  },
  {
   "cell_type": "markdown",
   "metadata": {},
   "source": [
    "We can see that the flat region in figure 1 is labelled with activity 1, which is standing and hence consistent with the lack of acceleration. \n",
    "\n",
    "However, the negative value of the y acceleration is inconsistent, since it should be approximately zero. This observation reveals a negative bias in the y readings, hence highlighting the need for data normalistion."
   ]
  },
  {
   "cell_type": "code",
   "execution_count": 121,
   "metadata": {},
   "outputs": [
    {
     "data": {
      "text/html": [
       "<div>\n",
       "<style scoped>\n",
       "    .dataframe tbody tr th:only-of-type {\n",
       "        vertical-align: middle;\n",
       "    }\n",
       "\n",
       "    .dataframe tbody tr th {\n",
       "        vertical-align: top;\n",
       "    }\n",
       "\n",
       "    .dataframe thead th {\n",
       "        text-align: right;\n",
       "    }\n",
       "</style>\n",
       "<table border=\"1\" class=\"dataframe\">\n",
       "  <thead>\n",
       "    <tr style=\"text-align: right;\">\n",
       "      <th></th>\n",
       "      <th>x</th>\n",
       "      <th>y</th>\n",
       "      <th>z</th>\n",
       "    </tr>\n",
       "  </thead>\n",
       "  <tbody>\n",
       "    <tr>\n",
       "      <th>20586</th>\n",
       "      <td>-0.056601</td>\n",
       "      <td>0.018959</td>\n",
       "      <td>-0.038346</td>\n",
       "    </tr>\n",
       "    <tr>\n",
       "      <th>20587</th>\n",
       "      <td>-0.073383</td>\n",
       "      <td>-0.002743</td>\n",
       "      <td>0.001279</td>\n",
       "    </tr>\n",
       "    <tr>\n",
       "      <th>20588</th>\n",
       "      <td>-0.066954</td>\n",
       "      <td>-0.004309</td>\n",
       "      <td>0.023493</td>\n",
       "    </tr>\n",
       "    <tr>\n",
       "      <th>20589</th>\n",
       "      <td>-0.069840</td>\n",
       "      <td>0.004728</td>\n",
       "      <td>-0.003860</td>\n",
       "    </tr>\n",
       "    <tr>\n",
       "      <th>20590</th>\n",
       "      <td>-0.069904</td>\n",
       "      <td>0.000441</td>\n",
       "      <td>0.010497</td>\n",
       "    </tr>\n",
       "  </tbody>\n",
       "</table>\n",
       "</div>"
      ],
      "text/plain": [
       "              x         y         z\n",
       "20586 -0.056601  0.018959 -0.038346\n",
       "20587 -0.073383 -0.002743  0.001279\n",
       "20588 -0.066954 -0.004309  0.023493\n",
       "20589 -0.069840  0.004728 -0.003860\n",
       "20590 -0.069904  0.000441  0.010497"
      ]
     },
     "execution_count": 121,
     "metadata": {},
     "output_type": "execute_result"
    }
   ],
   "source": [
    "normalised_train_time_series = (train_time_series[['x','y','z']] - train_time_series[['x','y','z']].mean())/(train_time_series[['x','y','z']].max() - train_time_series[['x','y','z']].min())\n",
    "normalised_train_time_series.head()        "
   ]
  },
  {
   "cell_type": "code",
   "execution_count": 122,
   "metadata": {},
   "outputs": [
    {
     "data": {
      "text/html": [
       "<div>\n",
       "<style scoped>\n",
       "    .dataframe tbody tr th:only-of-type {\n",
       "        vertical-align: middle;\n",
       "    }\n",
       "\n",
       "    .dataframe tbody tr th {\n",
       "        vertical-align: top;\n",
       "    }\n",
       "\n",
       "    .dataframe thead th {\n",
       "        text-align: right;\n",
       "    }\n",
       "</style>\n",
       "<table border=\"1\" class=\"dataframe\">\n",
       "  <thead>\n",
       "    <tr style=\"text-align: right;\">\n",
       "      <th></th>\n",
       "      <th>x</th>\n",
       "      <th>y</th>\n",
       "      <th>z</th>\n",
       "    </tr>\n",
       "  </thead>\n",
       "  <tbody>\n",
       "    <tr>\n",
       "      <th>count</th>\n",
       "      <td>3.744000e+03</td>\n",
       "      <td>3.744000e+03</td>\n",
       "      <td>3.744000e+03</td>\n",
       "    </tr>\n",
       "    <tr>\n",
       "      <th>mean</th>\n",
       "      <td>5.218997e-18</td>\n",
       "      <td>-1.470808e-17</td>\n",
       "      <td>-7.116814e-19</td>\n",
       "    </tr>\n",
       "    <tr>\n",
       "      <th>std</th>\n",
       "      <td>1.107079e-01</td>\n",
       "      <td>1.215113e-01</td>\n",
       "      <td>8.764820e-02</td>\n",
       "    </tr>\n",
       "    <tr>\n",
       "      <th>min</th>\n",
       "      <td>-3.544725e-01</td>\n",
       "      <td>-6.426120e-01</td>\n",
       "      <td>-3.747160e-01</td>\n",
       "    </tr>\n",
       "    <tr>\n",
       "      <th>25%</th>\n",
       "      <td>-6.080295e-02</td>\n",
       "      <td>-3.846104e-02</td>\n",
       "      <td>-3.822934e-02</td>\n",
       "    </tr>\n",
       "    <tr>\n",
       "      <th>50%</th>\n",
       "      <td>-9.538657e-03</td>\n",
       "      <td>1.272270e-02</td>\n",
       "      <td>-8.074408e-03</td>\n",
       "    </tr>\n",
       "    <tr>\n",
       "      <th>75%</th>\n",
       "      <td>5.731421e-02</td>\n",
       "      <td>6.344207e-02</td>\n",
       "      <td>2.982226e-02</td>\n",
       "    </tr>\n",
       "    <tr>\n",
       "      <th>max</th>\n",
       "      <td>6.455275e-01</td>\n",
       "      <td>3.573880e-01</td>\n",
       "      <td>6.252840e-01</td>\n",
       "    </tr>\n",
       "  </tbody>\n",
       "</table>\n",
       "</div>"
      ],
      "text/plain": [
       "                  x             y             z\n",
       "count  3.744000e+03  3.744000e+03  3.744000e+03\n",
       "mean   5.218997e-18 -1.470808e-17 -7.116814e-19\n",
       "std    1.107079e-01  1.215113e-01  8.764820e-02\n",
       "min   -3.544725e-01 -6.426120e-01 -3.747160e-01\n",
       "25%   -6.080295e-02 -3.846104e-02 -3.822934e-02\n",
       "50%   -9.538657e-03  1.272270e-02 -8.074408e-03\n",
       "75%    5.731421e-02  6.344207e-02  2.982226e-02\n",
       "max    6.455275e-01  3.573880e-01  6.252840e-01"
      ]
     },
     "execution_count": 122,
     "metadata": {},
     "output_type": "execute_result"
    }
   ],
   "source": [
    "normalised_train_time_series.describe()"
   ]
  },
  {
   "cell_type": "code",
   "execution_count": 123,
   "metadata": {},
   "outputs": [
    {
     "data": {
      "text/plain": [
       "Text(0.5, 1.0, 'Figure 2: normalised accelerometer data')"
      ]
     },
     "execution_count": 123,
     "metadata": {},
     "output_type": "execute_result"
    },
    {
     "data": {
      "image/png": "[encoded data removed]",
      "text/plain": [
       "<Figure size 432x288 with 1 Axes>"
      ]
     },
     "metadata": {
      "needs_background": "light"
     },
     "output_type": "display_data"
    }
   ],
   "source": [
    "normalised_train_time_series.plot()\n",
    "plt.title('Figure 2: normalised accelerometer data')"
   ]
  },
  {
   "cell_type": "markdown",
   "metadata": {},
   "source": [
    "Figure 2 illustrates that the normalisation has rendered the three numerical features similar in magnitude and spread. The normalized data features will now work more efficiently and in an understandable way. "
   ]
  },
  {
   "cell_type": "code",
   "execution_count": 124,
   "metadata": {},
   "outputs": [],
   "source": [
    "train_time_series[['x','y','z']] = normalised_train_time_series # normalised and checked acclerometer data assigned to training data"
   ]
  },
  {
   "cell_type": "markdown",
   "metadata": {},
   "source": [
    "## Examine time values"
   ]
  },
  {
   "cell_type": "code",
   "execution_count": 146,
   "metadata": {},
   "outputs": [],
   "source": [
    "def utc_str_to_timestamp(time_str):\n",
    "    return datetime.datetime.strptime(time_str, '%Y-%m-%dT%H:%M:%S.%f').timestamp()\n",
    "\n",
    "def datetime_to_seconds(datetime_value):\n",
    "    return datetime_value.total_seconds()"
   ]
  },
  {
   "cell_type": "code",
   "execution_count": 142,
   "metadata": {},
   "outputs": [
    {
     "data": {
      "text/plain": [
       "20586    2019-08-06T16:45:30.787\n",
       "20587    2019-08-06T16:45:30.887\n",
       "20588    2019-08-06T16:45:30.987\n",
       "20589    2019-08-06T16:45:31.087\n",
       "20590    2019-08-06T16:45:31.188\n",
       "Name: UTC time, dtype: object"
      ]
     },
     "execution_count": 142,
     "metadata": {},
     "output_type": "execute_result"
    }
   ],
   "source": [
    "# assess the time differences between datapoints\n",
    "time_points = train_time_series['UTC time']\n",
    "time_points.head()"
   ]
  },
  {
   "cell_type": "code",
   "execution_count": 143,
   "metadata": {},
   "outputs": [],
   "source": [
    "# calculate time differences\n",
    "time_points = time_points.apply(utc_str_to_timestamp)\n",
    "time_diffs = time_points.diff()"
   ]
  },
  {
   "cell_type": "code",
   "execution_count": 144,
   "metadata": {},
   "outputs": [
    {
     "data": {
      "text/plain": [
       "count    3743.000000\n",
       "mean        0.100254\n",
       "std         0.001482\n",
       "min         0.100000\n",
       "25%         0.100000\n",
       "50%         0.100000\n",
       "75%         0.100000\n",
       "max         0.187000\n",
       "Name: UTC time, dtype: float64"
      ]
     },
     "execution_count": 144,
     "metadata": {},
     "output_type": "execute_result"
    }
   ],
   "source": [
    "time_diffs.describe()"
   ]
  },
  {
   "cell_type": "markdown",
   "metadata": {},
   "source": [
    "The time intervals between accelerometer readings is approximately 100 ms seconds with a standard deviation of 1.5 ms.\n",
    "\n",
    "We now convert the time points to float values in seconds."
   ]
  },
  {
   "cell_type": "code",
   "execution_count": 154,
   "metadata": {},
   "outputs": [],
   "source": [
    "train_time_series['UTC time'] = time_points # because now we can work with floats later on"
   ]
  },
  {
   "cell_type": "code",
   "execution_count": 155,
   "metadata": {},
   "outputs": [
    {
     "data": {
      "text/html": [
       "<div>\n",
       "<style scoped>\n",
       "    .dataframe tbody tr th:only-of-type {\n",
       "        vertical-align: middle;\n",
       "    }\n",
       "\n",
       "    .dataframe tbody tr th {\n",
       "        vertical-align: top;\n",
       "    }\n",
       "\n",
       "    .dataframe thead th {\n",
       "        text-align: right;\n",
       "    }\n",
       "</style>\n",
       "<table border=\"1\" class=\"dataframe\">\n",
       "  <thead>\n",
       "    <tr style=\"text-align: right;\">\n",
       "      <th></th>\n",
       "      <th>timestamp</th>\n",
       "      <th>UTC time</th>\n",
       "      <th>accuracy</th>\n",
       "      <th>x</th>\n",
       "      <th>y</th>\n",
       "      <th>z</th>\n",
       "    </tr>\n",
       "  </thead>\n",
       "  <tbody>\n",
       "    <tr>\n",
       "      <th>20586</th>\n",
       "      <td>1565109930787</td>\n",
       "      <td>1.565074e+09</td>\n",
       "      <td>unknown</td>\n",
       "      <td>-0.056601</td>\n",
       "      <td>0.018959</td>\n",
       "      <td>-0.038346</td>\n",
       "    </tr>\n",
       "    <tr>\n",
       "      <th>20587</th>\n",
       "      <td>1565109930887</td>\n",
       "      <td>1.565074e+09</td>\n",
       "      <td>unknown</td>\n",
       "      <td>-0.073383</td>\n",
       "      <td>-0.002743</td>\n",
       "      <td>0.001279</td>\n",
       "    </tr>\n",
       "    <tr>\n",
       "      <th>20588</th>\n",
       "      <td>1565109930987</td>\n",
       "      <td>1.565074e+09</td>\n",
       "      <td>unknown</td>\n",
       "      <td>-0.066954</td>\n",
       "      <td>-0.004309</td>\n",
       "      <td>0.023493</td>\n",
       "    </tr>\n",
       "    <tr>\n",
       "      <th>20589</th>\n",
       "      <td>1565109931087</td>\n",
       "      <td>1.565074e+09</td>\n",
       "      <td>unknown</td>\n",
       "      <td>-0.069840</td>\n",
       "      <td>0.004728</td>\n",
       "      <td>-0.003860</td>\n",
       "    </tr>\n",
       "    <tr>\n",
       "      <th>20590</th>\n",
       "      <td>1565109931188</td>\n",
       "      <td>1.565074e+09</td>\n",
       "      <td>unknown</td>\n",
       "      <td>-0.069904</td>\n",
       "      <td>0.000441</td>\n",
       "      <td>0.010497</td>\n",
       "    </tr>\n",
       "  </tbody>\n",
       "</table>\n",
       "</div>"
      ],
      "text/plain": [
       "           timestamp      UTC time accuracy         x         y         z\n",
       "20586  1565109930787  1.565074e+09  unknown -0.056601  0.018959 -0.038346\n",
       "20587  1565109930887  1.565074e+09  unknown -0.073383 -0.002743  0.001279\n",
       "20588  1565109930987  1.565074e+09  unknown -0.066954 -0.004309  0.023493\n",
       "20589  1565109931087  1.565074e+09  unknown -0.069840  0.004728 -0.003860\n",
       "20590  1565109931188  1.565074e+09  unknown -0.069904  0.000441  0.010497"
      ]
     },
     "execution_count": 155,
     "metadata": {},
     "output_type": "execute_result"
    }
   ],
   "source": [
    "train_time_series.head()"
   ]
  },
  {
   "cell_type": "markdown",
   "metadata": {},
   "source": [
    "# Attribute Generation\n",
    "\n",
    "Each x-y-z reading will be its own attribute. Based off of multiple papers, around 57 features are sufficient for a classifier of aboe 90%. A frequently used technique is to use a sliding window of variable length to make predicitions. For this model, windows of 2,6 and 10 will be used for classification, and a majority vote of the preditions based on these windows will be the final decision for each time stamp.\n"
   ]
  },
  {
   "cell_type": "code",
   "execution_count": null,
   "metadata": {},
   "outputs": [],
   "source": [
    "\n",
    "#################### now features will be added for every timestamp ####################\n",
    "\n",
    "# define a new dataframe for testing the algorithm\n",
    "df_2 = train_labels\n",
    "df_6 = train_labels\n",
    "df_10 = train_labels\n",
    "\n",
    "xyz = [\"x\",\"y\",\"z\"]\n",
    "\n",
    "for i in range(0,2,)\n",
    "# 1: sum of acceleration\n",
    "df[\"sum\"] = df[xyz].sum(axis=0)\n",
    "\n",
    "# 2: mean of acceleration\n",
    "df[\"mean\"] = df[xyz].mean(axis=0)\n",
    "\n",
    "# 3: standard deviation\n"
   ]
  },
  {
   "cell_type": "code",
   "execution_count": 2,
   "metadata": {},
   "outputs": [
    {
     "ename": "NameError",
     "evalue": "name 'df' is not defined",
     "output_type": "error",
     "traceback": [
      "\u001b[0;31m---------------------------------------------------------------------------\u001b[0m",
      "\u001b[0;31mNameError\u001b[0m                                 Traceback (most recent call last)",
      "\u001b[0;32m<ipython-input-2-c42a15b2c7cf>\u001b[0m in \u001b[0;36m<module>\u001b[0;34m\u001b[0m\n\u001b[0;32m----> 1\u001b[0;31m \u001b[0mdf\u001b[0m\u001b[0;34m.\u001b[0m\u001b[0mhead\u001b[0m\u001b[0;34m(\u001b[0m\u001b[0;34m)\u001b[0m\u001b[0;34m\u001b[0m\u001b[0;34m\u001b[0m\u001b[0m\n\u001b[0m",
      "\u001b[0;31mNameError\u001b[0m: name 'df' is not defined"
     ]
    }
   ],
   "source": [
    "df.head()"
   ]
  },
  {
   "cell_type": "markdown",
   "metadata": {},
   "source": [
    "## Model Selection \n",
    "Now the data is imported. In the previous problems, it was quite simple to apply certain classification models since the features that were used for inference, were independent attributes. If the values were just unravelled into a single vector, they would not be representative of movement. If this was ignored and a simple mean was calculated on the groups of 10 readings, the data would not represent the thing it is trying to model. \n",
    "\n",
    "There needs to be some sort of means of combining the data to represent the change in acceleration in every time step.\n",
    "\n",
    "One study [1] found that random forests were the most accurate in classifying activities froom accelerometer data. \n",
    "\n",
    "[1] Martin, Bryan & Addona, Vittorio & Wolfson, Julian & Adomavicius, Gediminas & Fan, Yingling. (2017). Methods for Real-Time Prediction of the Mode of Travel Using Smartphone-Based GPS and Accelerometer Data. Sensors. 17. 2058. 10.3390/s17092058. \n",
    "\n",
    "\n"
   ]
  }
 ],
 "metadata": {
  "kernelspec": {
   "display_name": "Python 3",
   "language": "python",
   "name": "python3"
  },
  "language_info": {
   "codemirror_mode": {
    "name": "ipython",
    "version": 3
   },
   "file_extension": ".py",
   "mimetype": "text/x-python",
   "name": "python",
   "nbconvert_exporter": "python",
   "pygments_lexer": "ipython3",
   "version": "3.7.6"
  }
 },
 "nbformat": 4,
 "nbformat_minor": 4
}
